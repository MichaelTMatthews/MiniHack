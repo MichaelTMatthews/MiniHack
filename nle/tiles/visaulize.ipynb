{
 "cells": [
  {
   "cell_type": "code",
   "execution_count": 1,
   "metadata": {},
   "outputs": [],
   "source": [
    "# this is copied from tile.c and made a Python list\n",
    "from nle.tiles import GlyphMapper\n",
    "gm = GlyphMapper()"
   ]
  },
  {
   "cell_type": "code",
   "execution_count": 26,
   "metadata": {},
   "outputs": [
    {
     "data": {
      "image/png": "[encoded data removed]",
      "text/plain": [
       "<PIL.Image.Image image mode=RGB size=16x16 at 0x7FFD887E5910>"
      ]
     },
     "metadata": {},
     "output_type": "display_data"
    },
    {
     "data": {
      "image/png": "[encoded data removed]",
      "text/plain": [
       "<PIL.Image.Image image mode=RGB size=16x16 at 0x7FFD887E5640>"
      ]
     },
     "metadata": {},
     "output_type": "display_data"
    }
   ],
   "source": [
    "import IPython.display\n",
    "import PIL.Image\n",
    "\n",
    "def display(x):\n",
    "    IPython.display.display(PIL.Image.fromarray(x))\n",
    "    \n",
    "def save(x, name):\n",
    "    t = PIL.Image.fromarray(x)\n",
    "    t.save(f\"/Users/samvelyan/workspace/{name}.png\")\n",
    "    \n",
    "display(gm.glyph_id_to_rgb(270)) # oracle\n",
    "display(gm.glyph_id_to_rgb(1)) # killer bee "
   ]
  },
  {
   "cell_type": "code",
   "execution_count": 27,
   "metadata": {},
   "outputs": [],
   "source": [
    "# More reliable test\n",
    "# Creating custom MiniHack task with many objects\n",
    "\n",
    "from nle.minihack import MiniHackSkill, LevelGenerator\n",
    "\n",
    "class MiniHackGUITest(MiniHackSkill):\n",
    "    \"\"\"Environment for \"eat\" task.\"\"\"\n",
    "\n",
    "    def __init__(self, *args, obs_crop_h=5, obs_crop_w=5, **kwargs):\n",
    "        lvl_gen = LevelGenerator(w=5, h=5, lit=True)\n",
    "        lvl_gen.add_stair_up((2, 2))\n",
    "\n",
    "        lvl_gen.add_object(\"apple\", \"%\", place=(0, 0))\n",
    "        lvl_gen.add_object(\"pear\", \"%\", place=(0, 1))\n",
    "        lvl_gen.add_object(\"dagger\", \")\", place=(0, 2))\n",
    "        lvl_gen.add_object(\"robe\", \"[\", place=(0, 3))\n",
    "        lvl_gen.add_object(\"boulder\", \"`\", place=(0, 4))\n",
    "\n",
    "        lvl_gen.add_terrain((1, 0), \"W\")  # water\n",
    "        lvl_gen.add_terrain((1, 1), \"L\")  # lava\n",
    "        lvl_gen.add_terrain((1, 2), \"T\")  # tree\n",
    "        lvl_gen.add_terrain((1, 3), \"{\")  # fountain\n",
    "        lvl_gen.add_terrain((1, 4), \"F\")  # iron bars\n",
    "\n",
    "        lvl_gen.add_terrain((4, 0), \"|\")\n",
    "        lvl_gen.add_terrain((4, 1), \"|\")\n",
    "        lvl_gen.add_terrain((4, 2), \"|\")\n",
    "        lvl_gen.add_terrain((4, 3), \"|\")\n",
    "        lvl_gen.add_terrain((4, 4), \"|\")\n",
    "        lvl_gen.add_door(\"open\", place=(4, 1))\n",
    "        lvl_gen.add_door(\"closed\", place=(4, 3))\n",
    "\n",
    "        lvl_gen.add_monster(\"killer bee\", place=(3, 0))\n",
    "        lvl_gen.add_monster(\"oracle\", place=(3, 1))\n",
    "        lvl_gen.add_monster(\"famine\", place=(3, 2))\n",
    "        lvl_gen.add_monster(\"giant ant\", place=(3, 3))\n",
    "        lvl_gen.add_monster(\"black dragon\", place=(3, 4))\n",
    "\n",
    "        des_file = lvl_gen.get_des()\n",
    "        print(des_file)\n",
    "\n",
    "        kwargs[\"observation_keys\"] = (\n",
    "            \"glyphs_crop\",\n",
    "            \"screen_descriptions_crop\",\n",
    "            \"pixel_crop\",\n",
    "            \"pixel\",\n",
    "        )\n",
    "\n",
    "        super().__init__(*args, des_file=des_file, **kwargs)\n"
   ]
  },
  {
   "cell_type": "code",
   "execution_count": 129,
   "metadata": {},
   "outputs": [],
   "source": [
    "class MiniHackScratch(MiniHackSkill):\n",
    "    def __init__(self, *args, **kwargs):\n",
    "        des_file = \"\"\"\n",
    "MAZE: \"mylevel\", ' '\n",
    "FLAGS:hardfloor, premapped\n",
    "MESSAGE: \"Welcome to MiniHack!\"\n",
    "INIT_MAP: solidfill,' '\n",
    "GEOMETRY:center,center\n",
    "MAP\n",
    "..........\n",
    "..........\n",
    "..........\n",
    "..........\n",
    "..........\n",
    "..........\n",
    "..........\n",
    "..........\n",
    "..........\n",
    "..........\n",
    "ENDMAP\n",
    "REGION:(0,0,10,10),lit,\"ordinary\"\n",
    "$rivers = TERRAIN:{'L','W','I'}\n",
    "SHUFFLE:$rivers\n",
    "LOOP [2] {\n",
    "  TERRAIN:randline (0,0),(10,10),5,$rivers[0]\n",
    "  MONSTER:\n",
    "}\n",
    "REPLACE_TERRAIN:(0,0,10,10),'.','T',5%\n",
    "STAIR:random,down\n",
    "\"\"\"\n",
    "        super().__init__(*args, des_file=des_file, **kwargs)"
   ]
  },
  {
   "cell_type": "code",
   "execution_count": 130,
   "metadata": {},
   "outputs": [],
   "source": [
    "def vis10(x):\n",
    "    x = x[7*16:17*16,34*16:44*16,:]\n",
    "    display(x)\n",
    "    return x\n",
    "    \n",
    "def vis15(x):\n",
    "    m = 4\n",
    "    n= 31\n",
    "    x = x[m*16:(m+15)*16,n*16:(n+15)*16,:]\n",
    "    display(x)\n",
    "    return x\n"
   ]
  },
  {
   "cell_type": "code",
   "execution_count": 136,
   "metadata": {},
   "outputs": [],
   "source": [
    "from nle.minihack.envs.hidenseek import MiniHackHideAndSeek\n",
    "from nle.minihack.envs.corridor import *\n",
    "\n",
    "from nle.minihack.envs.mazewalk import *\n",
    "observation_keys = (\n",
    "     \"pixel_crop\",\n",
    "     \"pixel\",\n",
    ")\n",
    "\n",
    "class mzw(MiniHackMazeWalk):\n",
    "    def __init__(self, *args, **kwargs):\n",
    "        kwargs[\"max_episode_steps\"] = kwargs.pop(\"max_episode_steps\", 200)\n",
    "        super().__init__(*args, w=11, h=11, premapped=True, **kwargs)\n",
    "\n",
    "# for i in range(10):\n",
    "#     env = MiniHackMazeWalk15x15Premapped(savedir=None,archivefile=None,observation_keys=observation_keys)\n",
    "#     obs = env.reset()\n",
    "#     x = vis15(obs[\"pixel\"])\n",
    "#     save(x, f\"mzwk_{i}\")"
   ]
  },
  {
   "cell_type": "code",
   "execution_count": 137,
   "metadata": {},
   "outputs": [
    {
     "data": {
      "image/png": "[encoded data removed]",
      "text/plain": [
       "<PIL.Image.Image image mode=RGB size=160x160 at 0x7FFD887E5B20>"
      ]
     },
     "metadata": {},
     "output_type": "display_data"
    },
    {
     "data": {
      "image/png": "[encoded data removed]",
      "text/plain": [
       "<PIL.Image.Image image mode=RGB size=160x160 at 0x7FFD997FB280>"
      ]
     },
     "metadata": {},
     "output_type": "display_data"
    },
    {
     "data": {
      "image/png": "[encoded data removed]",
      "text/plain": [
       "<PIL.Image.Image image mode=RGB size=160x160 at 0x7FFDB85DB610>"
      ]
     },
     "metadata": {},
     "output_type": "display_data"
    },
    {
     "data": {
      "image/png": "[encoded data removed]",
      "text/plain": [
       "<PIL.Image.Image image mode=RGB size=160x160 at 0x7FFD90502F40>"
      ]
     },
     "metadata": {},
     "output_type": "display_data"
    },
    {
     "data": {
      "image/png": "[encoded data removed]",
      "text/plain": [
       "<PIL.Image.Image image mode=RGB size=160x160 at 0x7FFDB861AD00>"
      ]
     },
     "metadata": {},
     "output_type": "display_data"
    },
    {
     "data": {
      "image/png": "[encoded data removed]",
      "text/plain": [
       "<PIL.Image.Image image mode=RGB size=160x160 at 0x7FFD781EEC40>"
      ]
     },
     "metadata": {},
     "output_type": "display_data"
    },
    {
     "data": {
      "image/png": "[encoded data removed]",
      "text/plain": [
       "<PIL.Image.Image image mode=RGB size=160x160 at 0x7FFD90502BB0>"
      ]
     },
     "metadata": {},
     "output_type": "display_data"
    },
    {
     "data": {
      "image/png": "[encoded data removed]",
      "text/plain": [
       "<PIL.Image.Image image mode=RGB size=160x160 at 0x7FFD887E5D00>"
      ]
     },
     "metadata": {},
     "output_type": "display_data"
    },
    {
     "data": {
      "image/png": "[encoded data removed]",
      "text/plain": [
       "<PIL.Image.Image image mode=RGB size=160x160 at 0x7FFD90502910>"
      ]
     },
     "metadata": {},
     "output_type": "display_data"
    },
    {
     "data": {
      "image/png": "[encoded data removed]",
      "text/plain": [
       "<PIL.Image.Image image mode=RGB size=160x160 at 0x7FFDB861ACA0>"
      ]
     },
     "metadata": {},
     "output_type": "display_data"
    }
   ],
   "source": [
    "for i in range(10):\n",
    "    env = MiniHackScratch(savedir=None,archivefile=None,observation_keys=observation_keys)\n",
    "    obs = env.reset()\n",
    "    x = vis10(obs[\"pixel\"],)\n",
    "    save(x, \"bb_{}\".format(i))"
   ]
  },
  {
   "cell_type": "code",
   "execution_count": 154,
   "metadata": {},
   "outputs": [
    {
     "data": {
      "image/png": "[encoded data removed]",
      "text/plain": [
       "<PIL.Image.Image image mode=RGB size=1264x336 at 0x7FFD997ACDC0>"
      ]
     },
     "metadata": {},
     "output_type": "display_data"
    }
   ],
   "source": [
    "des_file = \"\"\"\n",
    "LEVEL: \"mylevel\"\n",
    "FLAGS: premapped\n",
    "\n",
    "ROOM: \"ordinary\" , lit, random, random, random {\n",
    "  STAIR: random, up\n",
    "}\n",
    "ROOM: \"ordinary\" , lit, random, random, random {\n",
    "  STAIR: random, down\n",
    "}\n",
    "ROOM: \"ordinary\" , lit, random, random, random {\n",
    "}\n",
    "ROOM: \"ordinary\" , lit, random, random, random {\n",
    "}\n",
    "ROOM: \"ordinary\" , lit, random, random, random {\n",
    "}\n",
    "ROOM: \"ordinary\" , lit, random, random, random {\n",
    "}\n",
    "ROOM: \"ordinary\" , lit, random, random, random {\n",
    "}\n",
    "ROOM: \"ordinary\" , lit, random, random, random {\n",
    "}\n",
    "ROOM: \"ordinary\" , lit, random, random, random {\n",
    "}\n",
    "ROOM: \"ordinary\" , lit, random, random, random {\n",
    "}\n",
    "\n",
    "RANDOM_CORRIDORS\n",
    "\n",
    "\"\"\"\n",
    "class COR(MiniHackNavigation):\n",
    "    def __init__(self, *args, **kwargs):\n",
    "        super().__init__(*args, des_file=des_file, **kwargs)\n",
    "        \n",
    "env = COR(savedir=None,archivefile=None,observation_keys=observation_keys)\n",
    "obs = env.reset()\n",
    "display(obs[\"pixel\"],)"
   ]
  },
  {
   "cell_type": "code",
   "execution_count": 172,
   "metadata": {},
   "outputs": [
    {
     "data": {
      "image/png": "[encoded data removed]",
      "text/plain": [
       "<PIL.Image.Image image mode=RGB size=1264x336 at 0x7FFD90502AF0>"
      ]
     },
     "metadata": {},
     "output_type": "display_data"
    }
   ],
   "source": [
    "class MiniHackFightCorridor(MiniHackNavigation):\n",
    "    def __init__(self, *args, lit=True, **kwargs):\n",
    "        kwargs[\"character\"] = \"kni-hum-law-fem\"  # tested on human knight\n",
    "        kwargs[\"max_episode_steps\"] = kwargs.pop(\"max_episode_steps\", 350)\n",
    "\n",
    "        map = \"\"\"\n",
    "-----       ----------------------\n",
    "|...|       |....................|\n",
    "|....#######.....................|\n",
    "|...|       |....................|\n",
    "-----       ----------------------\n",
    "\"\"\"\n",
    "        lvl_gen = LevelGenerator(map=map, lit=lit, flags=('premapped',))\n",
    "        lvl_gen.set_start_pos((12, 2))\n",
    "        lvl_gen.add_monster(name=\"giant rat\", place=(14, 1))\n",
    "        lvl_gen.add_monster(name=\"giant rat\", place=(14, 2))\n",
    "        lvl_gen.add_monster(name=\"giant rat\", place=(14, 3))\n",
    "        lvl_gen.add_monster(name=\"giant rat\", place=(14, 1))\n",
    "        lvl_gen.add_monster(name=\"giant rat\", place=(14, 2))\n",
    "        lvl_gen.add_monster(name=\"giant rat\", place=(14, 3))\n",
    "        lvl_gen.add_goal_pos((32, 2))\n",
    "\n",
    "        super().__init__(*args, des_file=lvl_gen.get_des(), **kwargs)\n",
    "\n",
    "env = MiniHackFightCorridor(savedir=None,archivefile=None,observation_keys=observation_keys)\n",
    "obs = env.reset()\n",
    "display(obs[\"pixel\"],)"
   ]
  },
  {
   "cell_type": "code",
   "execution_count": null,
   "metadata": {},
   "outputs": [],
   "source": []
  },
  {
   "cell_type": "code",
   "execution_count": null,
   "metadata": {},
   "outputs": [],
   "source": []
  }
 ],
 "metadata": {
  "kernelspec": {
   "display_name": "Python 3",
   "language": "python",
   "name": "python3"
  },
  "language_info": {
   "codemirror_mode": {
    "name": "ipython",
    "version": 3
   },
   "file_extension": ".py",
   "mimetype": "text/x-python",
   "name": "python",
   "nbconvert_exporter": "python",
   "pygments_lexer": "ipython3",
   "version": "3.8.5"
  }
 },
 "nbformat": 4,
 "nbformat_minor": 4
}
